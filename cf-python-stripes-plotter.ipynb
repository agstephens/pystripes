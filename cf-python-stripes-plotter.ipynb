{
 "cells": [
  {
   "cell_type": "markdown",
   "id": "1de667bf-caf8-4565-923b-fad4c386a6e9",
   "metadata": {},
   "source": [
    "# Climate stripes demonstrated in a notebook"
   ]
  },
  {
   "cell_type": "code",
   "execution_count": 3,
   "id": "cef666eb-5958-4975-b1a6-db9ccad8d7e1",
   "metadata": {},
   "outputs": [
    {
     "name": "stdout",
     "output_type": "stream",
     "text": [
      "Defaulting to user installation because normal site-packages is not writeable\n",
      "Collecting convertbng (from -r requirements.txt (line 1))\n",
      "  Obtaining dependency information for convertbng from https://files.pythonhosted.org/packages/a8/86/a717a4aed642a9332c028f68d634c800e4eaeaafebf3ec93c7fc57f97532/convertbng-0.7.2-cp310-cp310-manylinux_2_17_x86_64.manylinux2014_x86_64.whl.metadata\n",
      "  Downloading convertbng-0.7.2-cp310-cp310-manylinux_2_17_x86_64.manylinux2014_x86_64.whl.metadata (15 kB)\n",
      "Requirement already satisfied: fsspec in /opt/jaspy/lib/python3.10/site-packages (from -r requirements.txt (line 2)) (2023.6.0)\n",
      "Collecting kerchunk (from -r requirements.txt (line 3))\n",
      "  Obtaining dependency information for kerchunk from https://files.pythonhosted.org/packages/7f/01/3716c014dd72cc97a518f8f8f0c9995fadef55191f8b49f00dae717e6bd2/kerchunk-0.2.4-py3-none-any.whl.metadata\n",
      "  Downloading kerchunk-0.2.4-py3-none-any.whl.metadata (4.3 kB)\n",
      "Collecting mdpdf (from -r requirements.txt (line 4))\n",
      "  Obtaining dependency information for mdpdf from https://files.pythonhosted.org/packages/ed/2a/1be7477288707b4cd3e25a53c05c87adc62fb8658cfbb3178d39fd5172d1/mdpdf-0.0.18-py3-none-any.whl.metadata\n",
      "  Downloading mdpdf-0.0.18-py3-none-any.whl.metadata (3.1 kB)\n",
      "Requirement already satisfied: wheel>=0.29.0 in /opt/jaspy/lib/python3.10/site-packages (from convertbng->-r requirements.txt (line 1)) (0.40.0)\n",
      "Requirement already satisfied: cython>=0.29.0 in /opt/jaspy/lib/python3.10/site-packages (from convertbng->-r requirements.txt (line 1)) (3.0.0)\n",
      "Requirement already satisfied: numpy>=1.11.0 in /opt/jaspy/lib/python3.10/site-packages (from convertbng->-r requirements.txt (line 1)) (1.24.4)\n",
      "Requirement already satisfied: numcodecs in /opt/jaspy/lib/python3.10/site-packages (from kerchunk->-r requirements.txt (line 3)) (0.11.0)\n",
      "Requirement already satisfied: ujson in /opt/jaspy/lib/python3.10/site-packages (from kerchunk->-r requirements.txt (line 3)) (5.7.0)\n",
      "Requirement already satisfied: zarr in /opt/jaspy/lib/python3.10/site-packages (from kerchunk->-r requirements.txt (line 3)) (2.15.0)\n",
      "Collecting pymupdf>=1.21 (from mdpdf->-r requirements.txt (line 4))\n",
      "  Obtaining dependency information for pymupdf>=1.21 from https://files.pythonhosted.org/packages/f9/1a/ee7b321e0f7a75259b73f039f8768c5384fafb48359f1186c4cce3ffa356/PyMuPDF-1.24.1-cp310-none-manylinux2014_x86_64.whl.metadata\n",
      "  Downloading PyMuPDF-1.24.1-cp310-none-manylinux2014_x86_64.whl.metadata (3.4 kB)\n",
      "Collecting commonmark>=0.9 (from mdpdf->-r requirements.txt (line 4))\n",
      "  Obtaining dependency information for commonmark>=0.9 from https://files.pythonhosted.org/packages/b1/92/dfd892312d822f36c55366118b95d914e5f16de11044a27cf10a7d71bbbf/commonmark-0.9.1-py2.py3-none-any.whl.metadata\n",
      "  Downloading commonmark-0.9.1-py2.py3-none-any.whl.metadata (5.7 kB)\n",
      "Requirement already satisfied: click>=7.1 in /opt/jaspy/lib/python3.10/site-packages (from mdpdf->-r requirements.txt (line 4)) (8.1.6)\n",
      "Collecting PyMuPDFb==1.24.1 (from pymupdf>=1.21->mdpdf->-r requirements.txt (line 4))\n",
      "  Obtaining dependency information for PyMuPDFb==1.24.1 from https://files.pythonhosted.org/packages/b2/ac/c5560c6cfbb251df1a884d18ea945c6173ee5b501914877574f365cb9c34/PyMuPDFb-1.24.1-py3-none-manylinux2014_x86_64.manylinux_2_17_x86_64.whl.metadata\n",
      "  Downloading PyMuPDFb-1.24.1-py3-none-manylinux2014_x86_64.manylinux_2_17_x86_64.whl.metadata (1.4 kB)\n",
      "Requirement already satisfied: entrypoints in /opt/jaspy/lib/python3.10/site-packages (from numcodecs->kerchunk->-r requirements.txt (line 3)) (0.4)\n",
      "Requirement already satisfied: asciitree in /opt/jaspy/lib/python3.10/site-packages (from zarr->kerchunk->-r requirements.txt (line 3)) (0.3.3)\n",
      "Requirement already satisfied: fasteners in /opt/jaspy/lib/python3.10/site-packages (from zarr->kerchunk->-r requirements.txt (line 3)) (0.17.3)\n",
      "Using cached convertbng-0.7.2-cp310-cp310-manylinux_2_17_x86_64.manylinux2014_x86_64.whl (14.0 MB)\n",
      "Using cached kerchunk-0.2.4-py3-none-any.whl (3.3 MB)\n",
      "Using cached mdpdf-0.0.18-py3-none-any.whl (14 kB)\n",
      "Using cached commonmark-0.9.1-py2.py3-none-any.whl (51 kB)\n",
      "Using cached PyMuPDF-1.24.1-cp310-none-manylinux2014_x86_64.whl (3.9 MB)\n",
      "Using cached PyMuPDFb-1.24.1-py3-none-manylinux2014_x86_64.manylinux_2_17_x86_64.whl (30.8 MB)\n",
      "Installing collected packages: commonmark, PyMuPDFb, convertbng, pymupdf, mdpdf, kerchunk\n",
      "\u001b[33m  WARNING: The script cmark is installed in '/home/users/astephen/.local/bin' which is not on PATH.\n",
      "  Consider adding this directory to PATH or, if you prefer to suppress this warning, use --no-warn-script-location.\u001b[0m\u001b[33m\n",
      "\u001b[0m\u001b[33m  WARNING: The script pymupdf is installed in '/home/users/astephen/.local/bin' which is not on PATH.\n",
      "  Consider adding this directory to PATH or, if you prefer to suppress this warning, use --no-warn-script-location.\u001b[0m\u001b[33m\n",
      "\u001b[0m\u001b[33m  WARNING: The script pymupdf is installed in '/home/users/astephen/.local/bin' which is not on PATH.\n",
      "  Consider adding this directory to PATH or, if you prefer to suppress this warning, use --no-warn-script-location.\u001b[0m\u001b[33m\n",
      "\u001b[0m\u001b[33m  WARNING: The script mdpdf is installed in '/home/users/astephen/.local/bin' which is not on PATH.\n",
      "  Consider adding this directory to PATH or, if you prefer to suppress this warning, use --no-warn-script-location.\u001b[0m\u001b[33m\n",
      "\u001b[0mSuccessfully installed PyMuPDFb-1.24.1 commonmark-0.9.1 convertbng-0.7.2 kerchunk-0.2.4 mdpdf-0.0.18 pymupdf-1.24.1\n"
     ]
    }
   ],
   "source": [
    "!pip install -r requirements.txt"
   ]
  },
  {
   "cell_type": "code",
   "execution_count": 9,
   "id": "d0c99b72-7941-4eef-80b0-4c16bfb31b8a",
   "metadata": {},
   "outputs": [
    {
     "name": "stdout",
     "output_type": "stream",
     "text": [
      "Wrote: HadCRUT.5.0.2.0.analysis.anomalies.ensemble_mean.nc\n"
     ]
    }
   ],
   "source": [
    "import requests\n",
    "import os\n",
    "\n",
    "url = \"https://www.metoffice.gov.uk/hadobs/hadcrut5/data/HadCRUT.5.0.2.0/analysis/HadCRUT.5.0.2.0.analysis.anomalies.ensemble_mean.nc\"\n",
    "fname = os.path.basename(url)\n",
    "resp = requests.get(url)\n",
    "\n",
    "with open(fname, \"wb\") as writer:\n",
    "    writer.write(resp.content)\n",
    "\n",
    "print(f\"Wrote: {fname}\")"
   ]
  },
  {
   "cell_type": "code",
   "execution_count": 10,
   "id": "e792d361-f0ef-433a-9dff-87a3a91a3973",
   "metadata": {},
   "outputs": [
    {
     "name": "stderr",
     "output_type": "stream",
     "text": [
      "/opt/jaspy/lib/python3.10/site-packages/numpy/ma/core.py:467: RuntimeWarning: invalid value encountered in cast\n",
      "  fill_value = np.array(fill_value, copy=False, dtype=ndtype)\n"
     ]
    },
    {
     "name": "stdout",
     "output_type": "stream",
     "text": [
      "Field: long_name=blended air_temperature_anomaly over land with sea_water_temperature_anomaly (ncvar%tas_mean)\n",
      "--------------------------------------------------------------------------------------------------------------\n",
      "Data            : long_name=blended air_temperature_anomaly over land with sea_water_temperature_anomaly(time(2089), latitude(36), longitude(72)) K\n",
      "Cell methods    : area: mean (interval: 5.0 degrees_north) time(2089): mean (interval: 1 month) realization(1): mean\n",
      "Dimension coords: time(2089) = [1850-01-16 12:00:00, ..., 2024-01-16 12:00:00] standard\n",
      "                : latitude(36) = [-87.5, ..., 87.5] degrees_north\n",
      "                : longitude(72) = [-177.5, ..., 177.5] degrees_east\n",
      "                : realization(1) = [100] 1\n"
     ]
    },
    {
     "name": "stderr",
     "output_type": "stream",
     "text": [
      "/opt/jaspy/lib/python3.10/site-packages/numpy/ma/core.py:467: RuntimeWarning: invalid value encountered in cast\n",
      "  fill_value = np.array(fill_value, copy=False, dtype=ndtype)\n",
      "/opt/jaspy/lib/python3.10/site-packages/numpy/ma/core.py:467: RuntimeWarning: invalid value encountered in cast\n",
      "  fill_value = np.array(fill_value, copy=False, dtype=ndtype)\n"
     ]
    },
    {
     "data": {
      "image/png": "[encoded data removed]",
      "text/plain": [
       "<Figure size 1000x200 with 1 Axes>"
      ]
     },
     "metadata": {},
     "output_type": "display_data"
    },
    {
     "name": "stderr",
     "output_type": "stream",
     "text": [
      "/opt/jaspy/lib/python3.10/site-packages/numpy/ma/core.py:467: RuntimeWarning: invalid value encountered in cast\n",
      "  fill_value = np.array(fill_value, copy=False, dtype=ndtype)\n",
      "/opt/jaspy/lib/python3.10/site-packages/numpy/ma/core.py:467: RuntimeWarning: invalid value encountered in cast\n",
      "  fill_value = np.array(fill_value, copy=False, dtype=ndtype)\n"
     ]
    },
    {
     "data": {
      "image/png": "[encoded data removed]",
      "text/plain": [
       "<Figure size 1000x200 with 1 Axes>"
      ]
     },
     "metadata": {},
     "output_type": "display_data"
    }
   ],
   "source": [
    "# %%\n",
    "# 1. Import cf-python and matplotlib.pyplot:\n",
    "\n",
    "import matplotlib.pyplot as plt\n",
    "\n",
    "import cf\n",
    "\n",
    "# %%\n",
    "# 2. Read the field constructs:\n",
    "temperature_data = cf.read(fname)[0]\n",
    "print(temperature_data)\n",
    "\n",
    "# %%\n",
    "# 3. Calculate the annual mean temperature anomalies. The ``'weights=True'``\n",
    "# argument is used to take the varying lengths of months into account which\n",
    "# ensures that the calculated mean is more accurate:\n",
    "annual_temperature = temperature_data.collapse(\n",
    "    \"T: mean\", weights=True, group=cf.Y()\n",
    ")\n",
    "\n",
    "# %%\n",
    "# 4. Select the data from 1850 to 2022:\n",
    "period = annual_temperature.subspace(T=cf.year(cf.wi(1850, 2022)))\n",
    "\n",
    "# %%\n",
    "# 5. Calculate the global average temperature for each year:\n",
    "global_temperature = period.collapse(\"X: Y: mean\")\n",
    "\n",
    "# %%\n",
    "# 6. Get the global average temperature and squeeze it to remove the size 1 axis:\n",
    "global_avg_temp = global_temperature.array.squeeze()\n",
    "\n",
    "# %%\n",
    "# 7. Create a normalization function that maps the interval from the minimum to\n",
    "# the maximum temperature to the interval [0, 1] for colouring:\n",
    "norm_global = plt.Normalize(global_avg_temp.min(), global_avg_temp.max())\n",
    "\n",
    "# %%\n",
    "# 8. Set the colormap instance:\n",
    "cmap = plt.get_cmap(\"RdBu_r\")\n",
    "\n",
    "# %%\n",
    "# 9. Create the figure and the axes for the global plot. Loop over the selected\n",
    "# years, plot a colored vertical stripe for each and remove the axes:\n",
    "fig_global, ax_global = plt.subplots(figsize=(10, 2))\n",
    "\n",
    "for i in range(global_avg_temp.shape[0]):\n",
    "    ax_global.axvspan(\n",
    "        xmin=i - 0.5, xmax=i + 0.5, color=cmap(norm_global(global_avg_temp[i]))\n",
    "    )\n",
    "\n",
    "ax_global.axis(\"off\")\n",
    "\n",
    "plt.show()\n",
    "\n",
    "# %%\n",
    "# 10. For the regional warming stripes, steps 5 to 9 are repeated for the\n",
    "# specific region. Here, we define the bounding box for the UK by sub-spacing over\n",
    "# a domain spanning 49.9 to 59.4 degrees north and -10.5 to 1.8 degrees east:\n",
    "uk_temperature = period.subspace(X=cf.wi(-10.5, 1.8), Y=cf.wi(49.9, 59.4))\n",
    "uk_avg_temperature = uk_temperature.collapse(\"X: Y: mean\")\n",
    "uk_avg_temp = uk_avg_temperature.array.squeeze()\n",
    "norm_uk = plt.Normalize(uk_avg_temp.min(), uk_avg_temp.max())\n",
    "\n",
    "# %%\n",
    "\n",
    "fig_uk, ax_uk = plt.subplots(figsize=(10, 2))\n",
    "\n",
    "for i in range(uk_avg_temp.shape[0]):\n",
    "    ax_uk.axvspan(\n",
    "        xmin=i - 0.5, xmax=i + 0.5, color=cmap(norm_uk(uk_avg_temp[i]))\n",
    "    )\n",
    "\n",
    "ax_uk.axis(\"off\")\n",
    "\n",
    "plt.show()\n"
   ]
  },
  {
   "cell_type": "code",
   "execution_count": 13,
   "id": "dc733a38-15c9-4849-898e-4afc83e62a4e",
   "metadata": {},
   "outputs": [
    {
     "name": "stderr",
     "output_type": "stream",
     "text": [
      "/opt/jaspy/lib/python3.10/site-packages/numpy/ma/core.py:467: RuntimeWarning: invalid value encountered in cast\n",
      "  fill_value = np.array(fill_value, copy=False, dtype=ndtype)\n",
      "/opt/jaspy/lib/python3.10/site-packages/numpy/ma/core.py:467: RuntimeWarning: invalid value encountered in cast\n",
      "  fill_value = np.array(fill_value, copy=False, dtype=ndtype)\n"
     ]
    },
    {
     "data": {
      "text/plain": [
       "(-9.15, 181.15, 0.0, 1.0)"
      ]
     },
     "execution_count": 13,
     "metadata": {},
     "output_type": "execute_result"
    },
    {
     "data": {
      "image/png": "[encoded data removed]",
      "text/plain": [
       "<Figure size 1000x200 with 1 Axes>"
      ]
     },
     "metadata": {},
     "output_type": "display_data"
    }
   ],
   "source": [
    "# With cf-python\n",
    "import matplotlib.pyplot as plt\n",
    "import cf\n",
    "\n",
    "temperature_data = cf.read(fname)[0]\n",
    "annual_temperature = temperature_data.collapse(\n",
    "    \"T: mean\", weights=True, group=cf.Y()\n",
    ")\n",
    "\n",
    "period = annual_temperature.subspace(T=cf.year(cf.wi(1850, 2022)))\n",
    "global_temperature = period.collapse(\"X: Y: mean\")\n",
    "global_avg_temp = global_temperature.array.squeeze()\n",
    "\n",
    "# Normalise between 0 and 1\n",
    "norm_global = plt.Normalize(global_avg_temp.min(), global_avg_temp.max())\n",
    "cmap = plt.get_cmap(\"RdBu_r\")\n",
    "\n",
    "fig, ax = plt.subplots(figsize=(10, 2))\n",
    "\n",
    "for i in range(global_avg_temp.shape[0]):\n",
    "    ax.axvspan(\n",
    "        xmin=i - 0.5, xmax=i + 0.5, color=cmap(norm_global(global_avg_temp[i]))\n",
    "    )\n",
    "\n",
    "ax.axis(\"off\")"
   ]
  },
  {
   "cell_type": "code",
   "execution_count": 82,
   "id": "86df4eea-3a55-4811-8830-49202d7250c5",
   "metadata": {},
   "outputs": [
    {
     "name": "stdout",
     "output_type": "stream",
     "text": [
      "<xarray.Dataset>\n",
      "Dimensions:           (time: 2089, latitude: 36, longitude: 72, bnds: 2)\n",
      "Coordinates:\n",
      "  * time              (time) datetime64[ns] 1850-01-16T12:00:00 ... 2024-01-1...\n",
      "  * latitude          (latitude) float64 -87.5 -82.5 -77.5 ... 77.5 82.5 87.5\n",
      "  * longitude         (longitude) float64 -177.5 -172.5 -167.5 ... 172.5 177.5\n",
      "    realization       int64 ...\n",
      "Dimensions without coordinates: bnds\n",
      "Data variables:\n",
      "    tas_mean          (time, latitude, longitude) float64 ...\n",
      "    time_bnds         (time, bnds) datetime64[ns] ...\n",
      "    latitude_bnds     (latitude, bnds) float64 ...\n",
      "    longitude_bnds    (longitude, bnds) float64 ...\n",
      "    realization_bnds  (bnds) int64 ...\n",
      "Attributes:\n",
      "    comment:      2m air temperature over land blended with sea water tempera...\n",
      "    history:      Data set built at: 2024-02-27T15:32:53+00:00\n",
      "    institution:  Met Office Hadley Centre / Climatic Research Unit, Universi...\n",
      "    licence:      HadCRUT5 is licensed under the Open Government Licence v3.0...\n",
      "    reference:    C. P. Morice, J. J. Kennedy, N. A. Rayner, J. P. Winn, E. H...\n",
      "    source:       CRUTEM.5.0.2.0 HadSST.4.0.1.0\n",
      "    title:        HadCRUT.5.0.2.0 blended land air temperature and sea-surfac...\n",
      "    version:      HadCRUT.5.0.2.0\n",
      "    Conventions:  CF-1.7\n"
     ]
    },
    {
     "data": {
      "text/plain": [
       "(-9.15, 181.15, 0.0, 1.0)"
      ]
     },
     "execution_count": 82,
     "metadata": {},
     "output_type": "execute_result"
    },
    {
     "data": {
      "image/png": "[encoded data removed]",
      "text/plain": [
       "<Figure size 1000x200 with 1 Axes>"
      ]
     },
     "metadata": {},
     "output_type": "display_data"
    }
   ],
   "source": [
    "# With xarray\n",
    "import matplotlib.pyplot as plt\n",
    "import xarray as xr\n",
    "\n",
    "ds = xr.open_dataset(fname)\n",
    "print(ds)\n",
    "\n",
    "def weighted_temporal_mean(ds, varid):\n",
    "    \"\"\"\n",
    "    weight by days in each month\n",
    "    \"\"\"\n",
    "    # Determine the month length\n",
    "    month_length = ds.time.dt.days_in_month\n",
    "\n",
    "    # Calculate the weights\n",
    "    wgts = month_length.groupby(\"time.year\") / month_length.groupby(\"time.year\").sum()\n",
    "\n",
    "    # Make sure the weights in each year add up to 1\n",
    "    np.testing.assert_allclose(wgts.groupby(\"time.year\").sum(xr.ALL_DIMS), 1.0)\n",
    "\n",
    "    # Subset our dataset for our variable\n",
    "    obs = ds[varid]\n",
    "\n",
    "    # Setup our masking for nan values\n",
    "    cond = obs.isnull()\n",
    "    ones = xr.where(cond, 0.0, 1.0)\n",
    "\n",
    "    # Calculate the numerator\n",
    "    obs_sum = (obs * wgts).resample(time=\"AS\").sum(dim=\"time\")\n",
    "\n",
    "    # Calculate the denominator\n",
    "    ones_out = (ones * wgts).resample(time=\"AS\").sum(dim=\"time\")\n",
    "\n",
    "    # Return the weighted average\n",
    "    return obs_sum / ones_out\n",
    "\n",
    "\n",
    "annual_temperature = weighted_temporal_mean(ds, \"tas_mean\")\n",
    "\n",
    "# annual_temperature = temperature_data.collapse(\n",
    "#     \"T: mean\", weights=True, group=cf.Y()\n",
    "# )\n",
    "\n",
    "period = annual_temperature.sel(time=slice(\"1850\", \"2022\"))\n",
    "# period = annual_temperature.subspace(T=cf.year(cf.wi(1850, 2022)))\n",
    "\n",
    "global_temperature = period.mean((\"longitude\", \"latitude\"))\n",
    "# global_temperature = period.collapse(\"X: Y: mean\")\n",
    "\n",
    "global_avg_temp = global_temperature.squeeze()\n",
    "# global_avg_temp = global_temperature.array.squeeze()\n",
    "\n",
    "# # Normalise between 0 and 1\n",
    "norm_global = plt.Normalize(global_avg_temp.min(), global_avg_temp.max())\n",
    "cmap = plt.get_cmap(\"RdBu_r\")\n",
    "\n",
    "fig, ax = plt.subplots(figsize=(10, 2))\n",
    "\n",
    "data = []\n",
    "for i in range(global_avg_temp.shape[0]):\n",
    "    value = float(global_avg_temp[i])\n",
    "    normalised_value = norm_global(value)\n",
    "    colour = cmap(normalised_value)\n",
    "\n",
    "    data.append([value, normalised_value, colour])\n",
    "    ax.axvspan(\n",
    "        xmin=i - 0.5, xmax=i + 0.5, color=colour\n",
    "    )\n",
    "\n",
    "ax.axis(\"off\")"
   ]
  },
  {
   "cell_type": "code",
   "execution_count": 92,
   "id": "eb0d87aa-1d35-41a8-8cef-e479262a9283",
   "metadata": {},
   "outputs": [
    {
     "data": {
      "text/plain": [
       "[-0.4412724445648426,\n",
       " 0.12046513707417844,\n",
       " (0.1529411764705883, 0.4311418685121108, 0.6904267589388697, 1.0)]"
      ]
     },
     "execution_count": 92,
     "metadata": {},
     "output_type": "execute_result"
    }
   ],
   "source": [
    "data[0]"
   ]
  },
  {
   "cell_type": "code",
   "execution_count": 95,
   "id": "088b7714-1a31-446d-b867-b4007f037f2c",
   "metadata": {},
   "outputs": [
    {
     "data": {
      "text/plain": [
       "([-0.44, 0.12, [0.15, 0.43, 0.69, 1.0]], [0.99, 0.91, [0.67, 0.08, 0.16, 1.0]])"
      ]
     },
     "execution_count": 95,
     "metadata": {},
     "output_type": "execute_result"
    }
   ],
   "source": [
    "low, high = data[0], data[-1]\n",
    "\n",
    "def roundlist(l):\n",
    "    a, b = [round(i, 2) for i in l[:2]]\n",
    "    col = [round(i, 2) for i in l[2]]\n",
    "    return [a, b, col]\n",
    "\n",
    "low = roundlist(low)\n",
    "high = roundlist(high)\n",
    "low, high"
   ]
  },
  {
   "cell_type": "markdown",
   "id": "a31f9ed9-2530-4782-a72a-189f218ebab0",
   "metadata": {},
   "source": [
    "## Explore the colour map\n",
    "\n",
    "What can we learn about the colours, and the underlying values?"
   ]
  },
  {
   "cell_type": "code",
   "execution_count": 96,
   "id": "c8f76ae2-5307-412f-a6fa-0cf94df91f72",
   "metadata": {},
   "outputs": [
    {
     "data": {
      "image/png": "[encoded data removed]",
      "text/html": [
       "<div style=\"vertical-align: middle;\"><strong>RdBu_r</strong> </div><div class=\"cmap\"><img alt=\"RdBu_r colormap\" title=\"RdBu_r\" style=\"border: 1px solid #555;\" src=\"data:image/png;base64,iVBORw0KGgoAAAANSUhEUgAAAgAAAABACAYAAABsv8+/AAAAFXRFWHRUaXRsZQBSZEJ1X3IgY29sb3JtYXAIzTWIAAAAG3RFWHREZXNjcmlwdGlvbgBSZEJ1X3IgY29sb3JtYXBBWi1sAAAAMHRFWHRBdXRob3IATWF0cGxvdGxpYiB2My41LjMsIGh0dHBzOi8vbWF0cGxvdGxpYi5vcmdn0eiSAAAAMnRFWHRTb2Z0d2FyZQBNYXRwbG90bGliIHYzLjUuMywgaHR0cHM6Ly9tYXRwbG90bGliLm9yZ0l3d7UAAAIlSURBVHic7dZLbqQwAEVRA+n99Jay/zUAPWjjyIBTH9XsnTNB/hZVkaI7/fn7vZdSyjTP5f9zee+59OP57fP37/H8fXPdP9Vx/5ynY1z6+fP+aTB/uae/bz6df/v++lzqvmX+zPPr5XPzZ+47vm/7PqUft/XSnRutn3+fdu70uy7H/vM9D9dP953+DvVYmdr5Oi79+7T1tn+0PvXjdl//fk+vjz6v7e/HZd9un9Mx3kbr+6/nL/cM7nt0z+X84D32da33r3X5GG/PzZ/OH+s/+5+c/9B77OvxOVtd3m7n98H8Zf/l3NrvG933sffY63jv9rXxNphv5/p7fu5/tO9+fnhuu5/f6nydLuv+2rj+lV8+9+nx8R7H/wkAIIgAAIBAAgAAAgkAAAgkAAAgkAAAgEACAAACCQAACCQAACCQAACAQAIAAAIJAAAIJAAAIJAAAIBAAgAAAgkAAAgkAAAgkAAAgEACAAACCQAACCQAACCQAACAQAIAAAIJAAAIJAAAIJAAAIBAAgAAAgkAAAgkAAAgkAAAgEACAAACCQAACCQAACCQAACAQAIAAAIJAAAIJAAAIJAAAIBAAgAAAgkAAAgkAAAgkAAAgEACAAACCQAACCQAACCQAACAQAIAAAIJAAAIJAAAIJAAAIBAAgAAAgkAAAgkAAAgkAAAgEACAAACCQAACCQAACCQAACAQAIAAAIJAAAIJAAAIJAAAIBAAgAAAv0DMHhGFDOuJhgAAAAASUVORK5CYII=\"></div><div style=\"vertical-align: middle; max-width: 514px; display: flex; justify-content: space-between;\"><div style=\"float: left;\"><div title=\"#053061ff\" style=\"display: inline-block; width: 1em; height: 1em; margin: 0; vertical-align: middle; border: 1px solid #555; background-color: #053061ff;\"></div> under</div><div style=\"margin: 0 auto; display: inline-block;\">bad <div title=\"#00000000\" style=\"display: inline-block; width: 1em; height: 1em; margin: 0; vertical-align: middle; border: 1px solid #555; background-color: #00000000;\"></div></div><div style=\"float: right;\">over <div title=\"#67001fff\" style=\"display: inline-block; width: 1em; height: 1em; margin: 0; vertical-align: middle; border: 1px solid #555; background-color: #67001fff;\"></div></div>"
      ],
      "text/plain": [
       "<matplotlib.colors.LinearSegmentedColormap at 0x7fb394200af0>"
      ]
     },
     "execution_count": 96,
     "metadata": {},
     "output_type": "execute_result"
    }
   ],
   "source": [
    "cmap"
   ]
  },
  {
   "cell_type": "code",
   "execution_count": 103,
   "id": "80d322cd-97c2-484d-9bb9-d0d9edda9b0a",
   "metadata": {},
   "outputs": [],
   "source": [
    "# RGBA values include \"A\" which is alpha for opacity - are they all 1?\n",
    "assert min([i[2][3] for i in data]) == 1 and max([i[2][3] for i in data]) == 1"
   ]
  },
  {
   "cell_type": "code",
   "execution_count": 104,
   "id": "f35fcfff-ae54-49f6-a4b3-da38263d4678",
   "metadata": {},
   "outputs": [],
   "source": [
    "# Get the actual data (not the anomalies)"
   ]
  },
  {
   "cell_type": "code",
   "execution_count": 105,
   "id": "ea894d36-941b-4e12-8f14-14225118094f",
   "metadata": {},
   "outputs": [
    {
     "name": "stdout",
     "output_type": "stream",
     "text": [
      "/usr/bin/sh: line 1: wget: command not found\n"
     ]
    }
   ],
   "source": [
    "!curl -XGET https://www.metoffice.gov.uk/hadobs/hadcrut5/data/HadCRUT.5.0.2.0/analysis/diagnostics/HadCRUT.5.0.2.0.analysis.summary_series.global.annual.nc"
   ]
  },
  {
   "cell_type": "code",
   "execution_count": 102,
   "id": "5421975f-285d-401e-9d74-de9298922001",
   "metadata": {},
   "outputs": [
    {
     "name": "stdout",
     "output_type": "stream",
     "text": [
      "Rel value: -0.44, Actuals: -0.4412724445648426, RGBA: [0.15, 0.43, 0.69, 1.0]\n",
      "Rel value: -0.39, Actuals: -0.3932531230460232, RGBA: [0.19, 0.48, 0.72, 1.0]\n",
      "Rel value: -0.32, Actuals: -0.31947715300880836, RGBA: [0.25, 0.56, 0.75, 1.0]\n",
      "Rel value: -0.32, Actuals: -0.3154487713005761, RGBA: [0.25, 0.56, 0.75, 1.0]\n",
      "Rel value: -0.49, Actuals: -0.48936727597582513, RGBA: [0.12, 0.39, 0.66, 1.0]\n",
      "Rel value: -0.27, Actuals: -0.2710364631921242, RGBA: [0.3, 0.6, 0.78, 1.0]\n",
      "Rel value: -0.53, Actuals: -0.5308136503138359, RGBA: [0.1, 0.34, 0.59, 1.0]\n",
      "Rel value: -0.32, Actuals: -0.3210175388160285, RGBA: [0.24, 0.55, 0.75, 1.0]\n",
      "Rel value: -0.1, Actuals: -0.097163444875832, RGBA: [0.6, 0.78, 0.88, 1.0]\n",
      "Rel value: 0.19, Actuals: 0.1928746180684636, RGBA: [0.92, 0.95, 0.96, 1.0]\n",
      "Rel value: -0.17, Actuals: -0.17401569722469204, RGBA: [0.47, 0.71, 0.84, 1.0]\n",
      "Rel value: -0.13, Actuals: -0.13193457570129305, RGBA: [0.54, 0.75, 0.86, 1.0]\n",
      "Rel value: -0.08, Actuals: -0.08013388475992336, RGBA: [0.62, 0.79, 0.88, 1.0]\n",
      "Rel value: 0.24, Actuals: 0.2429085889564052, RGBA: [0.97, 0.97, 0.97, 1.0]\n",
      "Rel value: 0.43, Actuals: 0.4252593265992473, RGBA: [0.99, 0.86, 0.78, 1.0]\n",
      "Rel value: 0.36, Actuals: 0.3575104036745908, RGBA: [0.98, 0.9, 0.85, 1.0]\n",
      "Rel value: 0.85, Actuals: 0.8536118269053384, RGBA: [0.79, 0.28, 0.25, 1.0]\n",
      "Rel value: 1.16, Actuals: 1.1553197461629523, RGBA: [0.4, 0.0, 0.12, 1.0]\n"
     ]
    }
   ],
   "source": [
    "# Let's make a table of actual values\n",
    "# Presumably -0.44 at the start and 0.99 at the end is the difference \n",
    "# between those dates and the period used for comparison\n",
    "import pandas as pd\n",
    "\n",
    "for i in range(0, len(data), 10):\n",
    "    x = roundlist(data[i])\n",
    "    rel_value, actual_value, rgba_value = x[0], float(global_avg_temp[i]), x[2] \n",
    "    print(f\"Rel value: {rel_value}, Actuals: {actual_value}, RGBA: {rgba_value}\")"
   ]
  },
  {
   "cell_type": "code",
   "execution_count": null,
   "id": "83f89d88-02f9-4161-88a8-38f330e47a8f",
   "metadata": {},
   "outputs": [],
   "source": []
  }
 ],
 "metadata": {
  "kernelspec": {
   "display_name": "Python 3 + Jaspy",
   "language": "python",
   "name": "jaspy"
  },
  "language_info": {
   "codemirror_mode": {
    "name": "ipython",
    "version": 3
   },
   "file_extension": ".py",
   "mimetype": "text/x-python",
   "name": "python",
   "nbconvert_exporter": "python",
   "pygments_lexer": "ipython3",
   "version": "3.10.8"
  }
 },
 "nbformat": 4,
 "nbformat_minor": 5
}
